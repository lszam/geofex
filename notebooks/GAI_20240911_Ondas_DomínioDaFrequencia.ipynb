{
  "nbformat": 4,
  "nbformat_minor": 0,
  "metadata": {
    "colab": {
      "provenance": []
    },
    "kernelspec": {
      "name": "python3",
      "display_name": "Python 3"
    },
    "language_info": {
      "name": "python"
    }
  },
  "cells": [
    {
      "cell_type": "markdown",
      "source": [
        "# Material de Geofísica - Ondas e sinal geofísico no domínio da frequência\n",
        "#### Curso de Geologia - Geofísica Aplicada I - 2o Semestre 2024\n",
        "Profa. Luizemara Szameitat\n",
        "![Banner USP](https://raw.githubusercontent.com/lszam/geofex/main/assets/img/banner_usp.png)\n",
        "\n",
        "OBJETIVO: fixar os conceitos de comprimento de onda, amplitude e frequência, e se familiarizar com o termo \"domínio da frequência\". Este conteúdo é essencial para o bom entendimento do conteúdo que se seguirá na matéria, então vamos lá!\n",
        "\n",
        "> *Aluno: Insira seu nome na variável \"aluno\", entre aspas como no exemplo:\n",
        "aluno = 'Luiz'. A variável \"atividade\" contém o nome desta atividade. Execute a célula abaixo e as demais clicando no canto superior esquerdo.*\n"
      ],
      "metadata": {
        "id": "vKdghS6ACgxb"
      }
    },
    {
      "cell_type": "code",
      "source": [
        "##############\n",
        "#NOME DO ALUNO\n",
        "##############\n",
        "aluno = 'Luiz Carlos'\n",
        "atividade = 'GA1_Ondas_DominioDaFrequencia'"
      ],
      "metadata": {
        "id": "M3ALZZ_CEs6q"
      },
      "execution_count": 1,
      "outputs": []
    },
    {
      "cell_type": "code",
      "source": [
        "import numpy as np\n",
        "import matplotlib.pyplot as plt\n",
        "import pandas as pd\n",
        "\n",
        "from scipy.fftpack import fft, fftfreq"
      ],
      "metadata": {
        "id": "94JZbcboEu2C"
      },
      "execution_count": 2,
      "outputs": []
    },
    {
      "cell_type": "markdown",
      "source": [
        "# 1. Onda senóide"
      ],
      "metadata": {
        "id": "WnNhFDSiE0Ux"
      }
    },
    {
      "cell_type": "code",
      "source": [
        "#Propriedades\n",
        "comprimento_lambda=1\n",
        "amplitude=1\n",
        "frequency=1\n",
        "x_values = np.linspace(0, 2 * comprimento_lambda, 1000)\n",
        "y_values = amplitude * np.sin(2 * np.pi * frequency * x_values)"
      ],
      "metadata": {
        "id": "4F0rhYJwEzxx"
      },
      "execution_count": 3,
      "outputs": []
    },
    {
      "cell_type": "markdown",
      "source": [
        "Plotar em um gráfico"
      ],
      "metadata": {
        "id": "Imm6wL2LFJKK"
      }
    },
    {
      "cell_type": "code",
      "execution_count": null,
      "metadata": {
        "id": "yLqWjNbLYx-M"
      },
      "outputs": [],
      "source": [
        "# Criando o gráfico com seta horizontal para representar λ\n",
        "plt.figure(figsize=(10, 6))\n",
        "plt.plot(x_values, y_values, color='blue')\n",
        "plt.title(\"Onda Senoidal - 2 Ciclos\")\n",
        "plt.xlabel(\"Posição (em λ)\")\n",
        "plt.ylabel(\"Amplitude\")\n",
        "plt.grid(True)\n",
        "# Indicações no gráfico\n",
        "plt.axhline(0, color='black', linewidth=0.5)\n",
        "plt.axvline(comprimento_lambda, color='green', linestyle='--', label=' 1 λ')\n",
        "plt.axvline(2 * comprimento_lambda, color='purple', linestyle='--', label=' 2 λ')\n",
        "\n",
        "# Setas para λ\n",
        "plt.annotate('', xy=(0, -1.2), xytext=(comprimento_lambda, -1.2),\n",
        "             arrowprops=dict(facecolor='green', arrowstyle='<->', lw=2))\n",
        "plt.text(0.5, -1.4, 'λ', color='black', fontsize=14, ha='center')\n",
        "\n",
        "plt.annotate('', xy=(0, -1.6), xytext=(comprimento_lambda*2, -1.6),\n",
        "             arrowprops=dict(facecolor='green', arrowstyle='<->', lw=2))\n",
        "plt.text(1.0, -1.8, '2λ', color='black', fontsize=14, ha='center')\n",
        "\n",
        "# Indicação da amplitude como uma linha com setas em ambas as extremidades e na cor laranja\n",
        "plt.annotate('', xy=(0.5, 0), xytext=(0.5, amplitude),\n",
        "             arrowprops=dict(facecolor='orange', arrowstyle='<->', lw=2))\n",
        "plt.text(0.55, 0.5, 'Amplitude', color='orange', fontsize=12, va='center')\n",
        "\n",
        "# Exibir a frequência\n",
        "plt.text(2.8, -1.5, f'Frequência = {frequency} ciclo/(espaço ou tempo)', fontsize=12, ha='center', color='blue')\n",
        "\n",
        "plt.legend()\n",
        "plt.ylim(-2, 2)\n",
        "plt.show()\n"
      ]
    },
    {
      "cell_type": "markdown",
      "source": [
        "#2. Somatório de ondas senóides"
      ],
      "metadata": {
        "id": "gAZTNd7RGMWy"
      }
    },
    {
      "cell_type": "markdown",
      "source": [
        "Criando as ondas"
      ],
      "metadata": {
        "id": "XiyJ9iEWGWRC"
      }
    },
    {
      "cell_type": "code",
      "source": [
        "# Neste caso, vamos manter o x do mesmo tamanho para todas as ondas, assim haverá\n",
        "# sobreposição por toda a extensão do gráfico\n",
        "\n",
        "x_values = np.linspace(0, 1, 500)\n",
        "\n",
        "# Primeira onda\n",
        "amplitude1 = 1\n",
        "frequencia1 = 0.75\n",
        "y_values1 = amplitude1 * np.sin(2 * np.pi * frequencia1 * x_values)\n",
        "\n",
        "# Segunda onda, de maior frequência\n",
        "amplitude2 = 0.3\n",
        "frequencia2 = 3\n",
        "y_values2 = amplitude2 * np.sin(2 * np.pi * frequencia2 * x_values)\n",
        "\n",
        "# Parâmetros da terceira onda, mais alta frequência\n",
        "amplitude3 = 0.1\n",
        "frequencia3 = 50\n",
        "y_values3 = amplitude3 * np.sin(2 * np.pi * frequencia3 * x_values)\n",
        "\n",
        "\n",
        "# Gráfico\n",
        "plt.figure(figsize=(8, 4))\n",
        "plt.plot(x_values, y_values1, color='blue', label='Onda 1')\n",
        "plt.plot(x_values, y_values2, color='red', label='Onda 2 ')\n",
        "plt.plot(x_values, y_values3, color='purple', label='Onda 3 ')\n",
        "plt.title(\"Ondas Senoidais\")\n",
        "plt.xlabel(\"Posição (em λ)\")\n",
        "plt.ylabel(\"Amplitude\")\n",
        "plt.grid(True)\n",
        "# Zero no gráfico\n",
        "plt.axhline(0, color='black', linewidth=0.5)\n",
        "# Frequência\n",
        "plt.text(1.5, -1.4, f'Frequência Onda 1 = {frequencia1} ciclos/(espaço ou tempo)', fontsize=12, ha='center', color='blue')\n",
        "plt.text(1.5, -1.7, f'Frequência Onda 2 = {frequencia2} ciclos/(espaço ou tempo)', fontsize=12, ha='center', color='red')\n",
        "plt.text(1.5, -2, f'Frequência Onda 2 = {frequencia3} ciclos/(espaço ou tempo)', fontsize=12, ha='center', color='purple')\n",
        "plt.legend()\n",
        "plt.ylim(-2, 2)\n",
        "plt.show()\n"
      ],
      "metadata": {
        "id": "AJcJaULaGZLZ"
      },
      "execution_count": null,
      "outputs": []
    },
    {
      "cell_type": "markdown",
      "source": [
        "Plotando em um gráfico"
      ],
      "metadata": {
        "id": "ti8zJPB6GlPY"
      }
    },
    {
      "cell_type": "code",
      "source": [
        "# Soma das ondas\n",
        "y_values_soma = y_values1 + y_values2 + y_values3\n",
        "\n",
        "# Gráfico\n",
        "plt.figure(figsize=(8, 4))\n",
        "plt.plot(x_values, y_values_soma, color='black', label='Onda resultante')\n",
        "plt.grid(True)\n",
        "\n",
        "plt.axhline(0, color='black', linewidth=0.5)\n",
        "\n",
        "plt.legend()\n",
        "plt.ylim(-2, 2)\n",
        "plt.show()"
      ],
      "metadata": {
        "id": "BHHgMNUNGovg"
      },
      "execution_count": null,
      "outputs": []
    },
    {
      "cell_type": "markdown",
      "source": [
        "#3. Decompondo o sinal - encontrando as frequências presentes no dado"
      ],
      "metadata": {
        "id": "PAQW_1qEmqiM"
      }
    },
    {
      "cell_type": "markdown",
      "source": [
        "*Transformada rápida de Fourier (FFT) dos dados*\n",
        "\n",
        "A FFT, quando aplicada a dados no espaço (como é o nosso caso), irá calcula as componentes de frequência espacial (número de ciclos por metro, ou outra unidade espacial que esteja usando) e suas magnitudes (amplitudes)."
      ],
      "metadata": {
        "id": "K4txyxAIibM1"
      }
    },
    {
      "cell_type": "code",
      "source": [
        "# Transformada de Fourier da soma das ondas\n",
        "fft_values = fft(y_values_soma)\n",
        "n = len(x_values)\n",
        "frequencias = fftfreq(n, d=(x_values[1] - x_values[0]))"
      ],
      "metadata": {
        "id": "paWd9ZOshwZe"
      },
      "execution_count": 7,
      "outputs": []
    },
    {
      "cell_type": "markdown",
      "source": [
        "Exibindo o gráfico da FFT completo"
      ],
      "metadata": {
        "id": "L3fnziPHh2Ke"
      }
    },
    {
      "cell_type": "code",
      "source": [
        "# Magnitude da FFT\n",
        "fft_magnitude = fft_values.real\n",
        "\n",
        "plt.figure(figsize=(16, 2))\n",
        "plt.plot(x_values, y_values1, color='blue', linestyle='--', label='Onda 1', alpha=0.3)\n",
        "plt.plot(x_values, y_values2, color='red', linestyle='--', label='Onda 2 ', alpha=0.3)\n",
        "plt.plot(x_values, y_values3, color='purple', linestyle='--', label='Onda 3 ', alpha=0.3)\n",
        "plt.plot(x_values, y_values_soma, color='black', label='Onda resultante', alpha=1)\n",
        "plt.title(\"Sinal\")\n",
        "plt.xlabel(\"Posição no espaço (quilômetros ou metros, por exemplo)\")\n",
        "plt.ylabel(\"Amplitude\")\n",
        "plt.grid(True)\n",
        "plt.axhline(0, color='black', linewidth=0.5)\n",
        "plt.show()\n",
        "\n",
        "plt.figure(figsize=(16, 2))\n",
        "plt.plot(frequencias, fft_magnitude)\n",
        "plt.title('FFT - Espectro puro, parte real dos valores da fft')\n",
        "plt.xlabel('Frequência (ciclos/unid)')\n",
        "plt.ylabel('Magnitude')\n",
        "plt.show()"
      ],
      "metadata": {
        "id": "w6XLBd9bi6VN"
      },
      "execution_count": null,
      "outputs": []
    },
    {
      "cell_type": "code",
      "source": [
        "# Magnitude da FFT (apenas parte positiva)\n",
        "fft_magnitude = np.abs(fft_values)[:n//2]\n",
        "frequencias = frequencias[:n//2]\n",
        "\n",
        "# Criando o gráfico com a adição de seta horizontal para representar λ\n",
        "plt.figure(figsize=(16, 2))\n",
        "plt.plot(x_values, y_values1, color='blue', linestyle='--', label='Onda 1', alpha=0.3)\n",
        "plt.plot(x_values, y_values2, color='red', linestyle='--', label='Onda 2 ', alpha=0.3)\n",
        "plt.plot(x_values, y_values3, color='purple', linestyle='--', label='Onda 3 ', alpha=0.3)\n",
        "plt.plot(x_values, y_values_soma, color='black', label='Soma das Ondas', alpha=1)\n",
        "plt.title(\"Sinal\")\n",
        "plt.xlabel(\"Posição no espaço (quilômetros ou metros, por exemplo)\")\n",
        "plt.ylabel(\"Amplitude\")\n",
        "plt.grid(True)\n",
        "plt.axhline(0, color='black', linewidth=0.5)\n",
        "plt.legend()\n",
        "plt.ylim(-2, 2)\n",
        "plt.show()\n",
        "\n",
        "# Gráfico no domínio da frequência\n",
        "plt.figure(figsize=(16, 2))\n",
        "plt.plot(frequencias, fft_magnitude, color='purple', label='Magnitude da FFT')\n",
        "plt.title(\"FFT (parte real positiva)\")\n",
        "plt.xlabel(\"Frequência (ciclos/unid)\")\n",
        "plt.ylabel(\"Magnitude\")\n",
        "plt.grid(True)\n",
        "\n",
        "# Indicar as frequências principais no gráfico\n",
        "plt.axvline(frequencia1, color='blue', linestyle='--',  alpha=0.3, label=f'Frequência 1: {frequencia1} Hz')\n",
        "plt.axvline(frequencia2, color='red', linestyle='--', alpha=0.3, label=f'Frequência 2: {frequencia2} Hz')\n",
        "plt.axvline(frequencia3, color='purple', linestyle='--', alpha=0.3, label=f'Frequência 3: {frequencia3} Hz')\n",
        "\n",
        "plt.legend()\n",
        "plt.show()"
      ],
      "metadata": {
        "id": "2M479xApaY3O"
      },
      "execution_count": null,
      "outputs": []
    },
    {
      "cell_type": "markdown",
      "source": [
        "# 3. Tratando dados reais no domínio da frequência\n",
        "Dados reais de magnetometria em sítio controlado ([Bongiolo et al., 2022](https://www.sbgf.org.br/revista/index.php/rbgf/article/view/2132))"
      ],
      "metadata": {
        "id": "O2NwkNBKeQ_u"
      }
    },
    {
      "cell_type": "code",
      "source": [
        "# Carregar dados do arquivo csv\n",
        "file_path = 'https://raw.githubusercontent.com/lszam/ensino/main/controlled_sites_ufpr/mag/magniv_sitioufpr.csv'\n",
        "dados = pd.read_csv(file_path)\n",
        "dados.describe()"
      ],
      "metadata": {
        "id": "cy66FHPRyOLZ"
      },
      "execution_count": null,
      "outputs": []
    },
    {
      "cell_type": "code",
      "source": [
        "from scipy.interpolate import griddata\n",
        "\n",
        "# Carregar dados do arquivo csv\n",
        "file_path = 'https://raw.githubusercontent.com/lszam/ensino/main/controlled_sites_ufpr/mag/magniv_sitioufpr.csv'\n",
        "dados = pd.read_csv(file_path)\n",
        "\n",
        "x = dados['X'].values\n",
        "y = dados['Y'].values\n",
        "z = dados['MAGNIV'].values\n",
        "\n",
        "# Obter os valores únicos de X e Y\n",
        "x_unique = np.unique(dados['X'])\n",
        "y_unique = np.unique(dados['Y'])\n",
        "\n",
        "# Criar um grid fiel com base nesses valores únicos\n",
        "grid_x, grid_y = np.meshgrid(x_unique, y_unique)\n",
        "\n",
        "grid_z = griddata((x, y), z, (grid_x, grid_y), method='cubic')\n",
        "\n",
        "# Plotando o mapa com isolinhas\n",
        "plt.figure(figsize=(12, 8))\n",
        "plt.imshow(grid_z, extent=(x.min(), x.max(), y.min(), y.max()), origin='lower',\n",
        "           cmap='magma', aspect='auto')\n",
        "#plt.scatter(x, y, c=z, s=30, cmap='magma')\n",
        "plt.colorbar(label='nT')\n",
        "\n",
        "contours = plt.contour(grid_x, grid_y, grid_z, levels=12, colors='black')\n",
        "plt.clabel(contours, inline=True, fontsize=8)\n",
        "plt.xlabel('X')\n",
        "plt.ylabel('Y')\n",
        "\n",
        "plt.gca().set_aspect('equal')\n",
        "plt.show()\n"
      ],
      "metadata": {
        "id": "NrjbehCeursy"
      },
      "execution_count": null,
      "outputs": []
    },
    {
      "cell_type": "code",
      "source": [
        "x_values = dados['X'].values\n",
        "z_values = dados['MAGNIV'].values\n",
        "\n",
        "# Número de pontos (n)\n",
        "n = len(z_values)\n",
        "\n",
        "# Registrar as frequencias e suas magnitudes com a FFT\n",
        "dados_fft = fft(z_values)\n",
        "frequencias = fftfreq(n, (x_values[1] - x_values[0]))\n",
        "dados_frequencias = frequencias[n//2:]\n",
        "dados_magnitudes = np.abs(dados_fft)[n//2:]\n",
        "\n",
        "# Plotar o resultado da FFT\n",
        "plt.figure(figsize=(16, 6))\n",
        "plt.plot(dados_frequencias, dados_magnitudes, color='darkblue', linewidth=0.5)\n",
        "plt.title('Análise FFT dos Dados (Somente Parte Positiva)')\n",
        "plt.xlabel('Frequência (Hz)')\n",
        "plt.ylabel('Magnitude')\n",
        "plt.show()"
      ],
      "metadata": {
        "id": "b2RaXPIHWgDP"
      },
      "execution_count": null,
      "outputs": []
    },
    {
      "cell_type": "markdown",
      "source": [
        "## **Pergunta**\n",
        ">**O aspecto geral do gráfico de frequências do dado real é semelhante ao gráfico que estudamos antes, com ondas senóides? No que se assemelha e no que difere?**\n",
        "\n",
        "\n",
        "\n"
      ],
      "metadata": {
        "id": "2GV3fzrrhRHi"
      }
    },
    {
      "cell_type": "code",
      "source": [
        "# ESCREVA SUA RESPOSTA AQUI!\n",
        "#\n",
        "#\n",
        "#\n",
        "#\n"
      ],
      "metadata": {
        "id": "_gW9lQiEhOKa"
      },
      "execution_count": null,
      "outputs": []
    },
    {
      "cell_type": "markdown",
      "source": [
        "Olhando para o gráfico, percebemos que há um \"gap\" entre as frequências mais baixas e de maior magnitude (extrema esquerda) e o restante do dado. Esta é a resposta de grande comprimento de onda dada pela influencia magnética de um grande estacionamento ao lado do local de estudo. Vamos cortar essa parte?"
      ],
      "metadata": {
        "id": "VHgGxVt5h9JI"
      }
    },
    {
      "cell_type": "markdown",
      "source": [
        "## Testando a exclusão de parte das frequências"
      ],
      "metadata": {
        "id": "_FvfjWQEAXlU"
      }
    },
    {
      "cell_type": "markdown",
      "source": [
        "*FILTRO PARA DEIXAR ALTAS FREQUÊNCIAS (FILTRO PASSA-ALTA)*"
      ],
      "metadata": {
        "id": "hLYbN6sirgKE"
      }
    },
    {
      "cell_type": "code",
      "source": [
        "#CORTE PASSA-ALTA\n",
        "cutoff = 0.038  # frequência de corte (\"cut off\")\n",
        "\n",
        "n = len(dados['MAGNIV'])  # comprimento da série original de dados 'MAGNIV'\n",
        "frequencias = np.fft.fftfreq(n, (dados['X'][1] - dados['X'][0])) #f percorre o dado seguindo o espaçamento em X\n",
        "dados_fft = np.fft.fft(dados['MAGNIV'])\n",
        "\n",
        "# Filtrar apenas as frequências positivas\n",
        "frequencias_positivas = frequencias[n//2:]\n",
        "magnitudes_positivas = np.abs(dados_fft[n//2:])\n",
        "\n",
        "# Aplicar o cutoff nas frequências positivas\n",
        "frequencias_validas = frequencias_positivas[frequencias_positivas >= cutoff]\n",
        "magnitudes_validas = magnitudes_positivas[frequencias_positivas >= cutoff]\n",
        "\n",
        "# Plotar a FFT filtrada com base no cutoff\n",
        "plt.figure(figsize=(18, 6))\n",
        "plt.plot(dados_frequencias, dados_magnitudes, color='darkblue', linewidth=0.5, alpha = 0.8)\n",
        "plt.plot(frequencias_validas, magnitudes_validas, color='darkred', linewidth=0.5, alpha = 1)\n",
        "plt.title('Filtro Passa-Alta')\n",
        "plt.xlabel('Frequência')\n",
        "plt.ylabel('Magnitude')\n",
        "\n",
        "#### plt.yscale('log') # escala log\n",
        "\n",
        "plt.show()"
      ],
      "metadata": {
        "id": "D1K8b8RsAFvY"
      },
      "execution_count": null,
      "outputs": []
    },
    {
      "cell_type": "markdown",
      "source": [
        "Recuperar os dados no domínio do espaço com a transformada inversa (ifft)"
      ],
      "metadata": {
        "id": "amyy-1iMniPO"
      }
    },
    {
      "cell_type": "code",
      "source": [
        "dados_fft_filtrados = dados_fft.copy()\n",
        "# Aplicar o filtro passa-alta zerando as frequências abaixo do cutoff\n",
        "dados_fft_filtrados[np.abs(frequencias) < cutoff] = 0\n",
        "\n",
        "# Uso da transformada inversa (iFFT) para obter os dados no domínio do espaço\n",
        "dados_filtrados = np.fft.ifft(dados_fft_filtrados).real # apenas a parte real\n",
        "dados_filtrados\n",
        "\n",
        "# Criar um DataFrame com os dados filtrados e coordenadas\n",
        "df_filtrados = pd.DataFrame({\n",
        "    'Dados Filtrados': dados_filtrados.real,  # apenas a parte real dos dados filtrados\n",
        "    'X': dados['X'],\n",
        "    'Y': dados['Y']\n",
        "})\n",
        "\n",
        "# Organizar os dados filtrados em uma tabela 2D com base nas coordenadas originais X e Y\n",
        "filtrados_reshape = df_filtrados.pivot_table(index='Y', columns='X', values='Dados Filtrados')\n",
        "# pivot_table organiza os dados em uma tabela 2D, com base em X e Y, o que ajuda\n",
        "# no uso do método imshow, dispensando o preenchimento dos pontos ausentes no grid.\n",
        "# pivot_table preenche automaticamente os espaços vazios com NaN"
      ],
      "metadata": {
        "id": "bqXdTCNNCzPm"
      },
      "execution_count": 152,
      "outputs": []
    },
    {
      "cell_type": "code",
      "source": [
        "# Exibir os dados filtrados\n",
        "plt.figure(figsize=(8, 6))\n",
        "plt.imshow(filtrados_reshape, extent=(df_filtrados['X'].min(),\n",
        "                                      df_filtrados['X'].max(),\n",
        "                                      df_filtrados['Y'].min(),\n",
        "                                      df_filtrados['Y'].max()),\n",
        "                                      cmap='magma', aspect='auto', origin='lower')\n",
        "plt.colorbar(label='Magnitude Filtrada')\n",
        "\n",
        "plt.contour(filtrados_reshape, extent=(df_filtrados['X'].min(),\n",
        "                                        df_filtrados['X'].max(),\n",
        "                                        df_filtrados['Y'].min(),\n",
        "                                        df_filtrados['Y'].max()),\n",
        "                                        colors='black', levels=12, alpha=0.5)\n",
        "\n",
        "plt.title('Dados Filtrados')\n",
        "plt.xlabel('X')\n",
        "plt.ylabel('Y')\n",
        "\n",
        "plt.gca().set_aspect('equal')\n",
        "plt.show()\n"
      ],
      "metadata": {
        "id": "u3eRF0oXEeJd"
      },
      "execution_count": null,
      "outputs": []
    },
    {
      "cell_type": "markdown",
      "source": [
        "### *FILTRO BUTTERWORTH*\n"
      ],
      "metadata": {
        "id": "UZMJqSoYrR_R"
      }
    },
    {
      "cell_type": "code",
      "source": [
        "from scipy.signal import butter, filtfilt\n",
        "import numpy as np\n",
        "import matplotlib.pyplot as plt\n",
        "\n",
        "\n",
        "\n",
        "#CORTE NA FREQUENCIA PARA O BUTTERWORTH\n",
        "cutoff = 0.035  # Frequência de corte\n",
        "order = 3  # Ordem do filtro\n",
        "\n",
        "\n",
        "\n",
        "\n",
        "espacamento_X = dados['X'][1] - dados['X'][0]\n",
        "fs = 1.0 / np.abs(espacamento_X)  # Taxa de amostragem baseada no espaçamento dos dados\n",
        "nyq = 0.5 * fs  # Frequência de Nyquist, a metade da taxa de amostragem\n",
        "\n",
        "# Verificar se o cutoff é válido\n",
        "if cutoff <= 0 or cutoff >= nyq:\n",
        "    raise ValueError(f\"A frequência de corte deve ser maior que 0 e menor que a frequência de Nyquist ({nyq}).\")\n",
        "\n",
        "# Criar o filtro Butterworth passa-alta\n",
        "normal_cutoff = cutoff / nyq\n",
        "b, a = butter(order, normal_cutoff, btype='high', analog=False)\n",
        "\n",
        "# Aplicar o filtro Butterworth aos dados de 'MAGNIV'\n",
        "dados_filtrados_butter = filtfilt(b, a, dados['MAGNIV'].values)\n",
        "\n",
        "# Calcular os dados cortados (baixa frequência removida)\n",
        "dados_cortados = dados['MAGNIV'].values - dados_filtrados_butter\n",
        "\n",
        "# Atualizar o DataFrame 'df_filtrados' com os dados filtrados pelo Butterworth e os dados cortados\n",
        "df_filtrados['Butterworth'] = dados_filtrados_butter\n",
        "df_filtrados['Cortados'] = dados_cortados\n",
        "\n",
        "# Organizar os dados filtrados e cortados em tabelas 2D com base nas coordenadas originais X e Y\n",
        "filtrados_pivot = df_filtrados.pivot_table(index='Y', columns='X', values='Butterworth')\n",
        "cortados_pivot = df_filtrados.pivot_table(index='Y', columns='X', values='Cortados')\n",
        "\n",
        "# Exibir os dados\n",
        "plt.figure(figsize=(18, 4))\n",
        "\n",
        "# Subplot 1: Dados originais\n",
        "plt.subplot(1, 3, 1)\n",
        "plt.imshow(grid_z, extent=(dados['X'].min(),\n",
        "                           dados['X'].max(),\n",
        "                           dados['Y'].min(),\n",
        "                           dados['Y'].max()),\n",
        "                           cmap='magma', aspect='auto', origin='lower')\n",
        "plt.colorbar(label='Intensidade do campo (nT)')\n",
        "plt.contour(grid_z, extent=(dados['X'].min(),\n",
        "                            dados['X'].max(),\n",
        "                            dados['Y'].min(),\n",
        "                            dados['Y'].max()),\n",
        "                            colors='black', levels=10, alpha=0.5)\n",
        "plt.title('Dados originais')\n",
        "plt.xlabel('X')\n",
        "plt.ylabel('Y')\n",
        "plt.gca().set_aspect('equal')\n",
        "\n",
        "# Subplot 2: Dados cortados (baixa frequência removida)\n",
        "plt.subplot(1, 3, 2)\n",
        "plt.imshow(cortados_pivot, extent=(df_filtrados['X'].min(),\n",
        "                                   df_filtrados['X'].max(),\n",
        "                                   df_filtrados['Y'].min(),\n",
        "                                   df_filtrados['Y'].max()),\n",
        "                                   cmap='magma', aspect='auto', origin='lower')\n",
        "plt.colorbar(label='Intensidade do campo removida (nT)')\n",
        "plt.contour(cortados_pivot, extent=(df_filtrados['X'].min(),\n",
        "                                    df_filtrados['X'].max(),\n",
        "                                    df_filtrados['Y'].min(),\n",
        "                                    df_filtrados['Y'].max()),\n",
        "                                    colors='black', levels=10, alpha=0.5)\n",
        "plt.title('Dados removidos (baixa frequência)')\n",
        "plt.xlabel('X')\n",
        "plt.ylabel('Y')\n",
        "plt.gca().set_aspect('equal')\n",
        "\n",
        "\n",
        "\n",
        "\n",
        "# Subplot 3: Dados filtrados com Butterworth\n",
        "plt.subplot(1, 3, 3)\n",
        "plt.imshow(filtrados_pivot, extent=(df_filtrados['X'].min(),\n",
        "                                    df_filtrados['X'].max(),\n",
        "                                    df_filtrados['Y'].min(),\n",
        "                                    df_filtrados['Y'].max()),\n",
        "                                    cmap='magma', aspect='auto', origin='lower')\n",
        "plt.colorbar(label='Intensidade do campo filtrada com Butterworth (nT)')\n",
        "plt.contour(filtrados_pivot, extent=(df_filtrados['X'].min(),\n",
        "                                     df_filtrados['X'].max(),\n",
        "                                     df_filtrados['Y'].min(),\n",
        "                                     df_filtrados['Y'].max()),\n",
        "                                     colors='black', levels=10, alpha=0.5)\n",
        "plt.title('Dados residuais (pós-filtragem)')\n",
        "plt.xlabel('X')\n",
        "plt.ylabel('Y')\n",
        "plt.gca().set_aspect('equal')\n",
        "\n",
        "plt.tight_layout()\n",
        "plt.show()\n"
      ],
      "metadata": {
        "id": "Pqeq04VdmJY_"
      },
      "execution_count": null,
      "outputs": []
    },
    {
      "cell_type": "markdown",
      "source": [
        "# **Enviar atividade (ao final da aula)**\n",
        "Execute a célula abaixo para enviar"
      ],
      "metadata": {
        "id": "o8BfxGoZspdV"
      }
    },
    {
      "cell_type": "code",
      "source": [
        "!pip install nbconvert nbformat -q\n",
        "!apt-get install -y pandoc\n",
        "\n",
        "import nbformat\n",
        "from nbconvert import PDFExporter\n",
        "import base64\n",
        "import requests\n",
        "import json\n",
        "from google.colab import _message\n",
        "import os\n",
        "import re\n",
        "\n",
        "# Função para remover imagens externas das células de markdown\n",
        "def remove_external_images(notebook_content):\n",
        "    for cell in notebook_content['cells']:\n",
        "        if cell['cell_type'] == 'markdown':\n",
        "            # Procurar imagens externas usando regex\n",
        "            cell['source'] = re.sub(r'!\\[.*?\\]\\(http.*?\\)', '', cell['source'])\n",
        "    return notebook_content\n",
        "\n",
        "# Nome do notebook\n",
        "notebook_filename = 'GAI_20240911_Ondas_DomínioDaFrequencia.ipynb'  # Substitua pelo nome correto do seu notebook\n",
        "\n",
        "# Caminho completo do notebook no Google Drive\n",
        "notebook_path = f'/content/drive/My Drive/Colab Notebooks/{notebook_filename}'\n",
        "\n",
        "# Verifica se o notebook existe no caminho do Google Drive\n",
        "if os.path.exists(notebook_path):\n",
        "    # Carrega o notebook\n",
        "    with open(notebook_path) as f:\n",
        "        notebook_content = nbformat.read(f, as_version=4)\n",
        "\n",
        "    # Remover imagens externas do conteúdo do notebook\n",
        "    notebook_content = remove_external_images(notebook_content)\n",
        "\n",
        "    # Converte o notebook em PDF\n",
        "    pdf_exporter = PDFExporter()\n",
        "    pdf_data, resources = pdf_exporter.from_notebook_node(notebook_content)\n",
        "\n",
        "    # Salva o PDF gerado\n",
        "    pdf_filename = notebook_filename.replace('.ipynb', '.pdf')\n",
        "    pdf_path = f'/content/drive/My Drive/Colab Notebooks/{pdf_filename}'\n",
        "    with open(pdf_path, 'wb') as f:\n",
        "        f.write(pdf_data)\n",
        "\n",
        "    print(f\"Notebook exportado como PDF com sucesso em {pdf_path}!\")\n",
        "else:\n",
        "    print(\"Notebook não encontrado.\")\n",
        "\n",
        "\n",
        "\n",
        "# Função para enviar o email via Google Apps Script\n",
        "def send_email_via_script(recipient_email, subject, body, notebook_path):\n",
        "    # Verifica se o arquivo foi salvo corretamente\n",
        "    if not os.path.exists(pdf_path):\n",
        "        print(f\"Erro: O arquivo {pdf_path} não foi encontrado.\")\n",
        "        return\n",
        "\n",
        "    # Lê o arquivo do notebook\n",
        "    with open(pdf_path, 'rb') as f:\n",
        "        pdf_data = f.read()\n",
        "\n",
        "    # Verifica o tamanho do arquivo e se foi lido corretamente\n",
        "    if len(pdf_data) == 0:\n",
        "        print(\"Erro: O arquivo está vazio.\")\n",
        "        return\n",
        "\n",
        "    pdf_base64 = base64.b64encode(pdf_data).decode('utf-8')\n",
        "\n",
        "    # Verifica o tamanho do conteúdo codificado\n",
        "    if len(pdf_base64) == 0:\n",
        "        print(\"Erro: Falha na codificação do arquivo.\")\n",
        "        return\n",
        "\n",
        "    # URL do Google Apps Script\n",
        "    url = 'https://script.google.com/macros/s/AKfycbyZ5qDM_WTP27n2XaxkOhfeMpp4cePpg_Y8YIqP855rnBnoLe9rGdNnXthx4mBLQW81/exec'\n",
        "\n",
        "    # Dados enviados para o Google Apps Script\n",
        "    data = {\n",
        "        'recipient': recipient_email,\n",
        "        'subject': subject,\n",
        "        'body': body,\n",
        "        'attachmentName': notebook_path.split('/')[-1],\n",
        "        'attachmentContent': pdf_base64\n",
        "    }\n",
        "    # Enviar requisição POST\n",
        "    response = requests.post(url, data=data)\n",
        "    # Exibe a resposta para depuração\n",
        "    print(\"Resposta do servidor:\", response.text)\n",
        "\n",
        "# Nome do notebook\n",
        "#notebook_name = 'notebook_aluno_'+ aluno\n",
        "notebook_name = atividade + '_' + aluno\n",
        "\n",
        "# Configuração para enviar o notebook\n",
        "recipient_email = 'luizemara@gmail.com'\n",
        "subject = 'IGc-USP Atividades de alunos - ' + aluno +\"_\"+ atividade\n",
        "body = 'Atividade concluída - notebook anexado.'\n",
        "\n",
        "# Enviar o email\n",
        "send_email_via_script(recipient_email, subject, body, notebook_path)\n"
      ],
      "metadata": {
        "id": "tLIMFnQivGkb"
      },
      "execution_count": null,
      "outputs": []
    }
  ]
}